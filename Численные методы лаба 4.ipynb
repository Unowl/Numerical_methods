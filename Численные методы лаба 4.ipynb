{
 "cells": [
  {
   "cell_type": "code",
   "execution_count": 79,
   "id": "bc713617",
   "metadata": {},
   "outputs": [],
   "source": [
    "import numpy as np\n",
    "from matplotlib import pyplot as plt\n",
    "import math as m\n",
    "from IPython.display import display, clear_output"
   ]
  },
  {
   "cell_type": "code",
   "execution_count": 49,
   "id": "f31e4e79",
   "metadata": {},
   "outputs": [],
   "source": [
    "a = 0\n",
    "b = 10"
   ]
  },
  {
   "cell_type": "code",
   "execution_count": 56,
   "id": "820ff2ab",
   "metadata": {},
   "outputs": [],
   "source": [
    "X = [a+((b-a)*i)/100 for i in range(101)]\n",
    "Y = [fx(x) for x in X] "
   ]
  },
  {
   "cell_type": "code",
   "execution_count": 50,
   "id": "58453428",
   "metadata": {},
   "outputs": [],
   "source": [
    "def fx(x):\n",
    "    return m.log(x*x+3*x+1)-m.cos(2*x+1)\n",
    "\n",
    "def dfx(x):\n",
    "    return (2*x+3)/(x*x+3*x+1)+2*m.sin(2*x+1)"
   ]
  },
  {
   "cell_type": "code",
   "execution_count": 99,
   "id": "f4a2438f",
   "metadata": {},
   "outputs": [],
   "source": [
    "def dyhotomy(a, b, eps, f, graph = False, graph1 = False): #предпологаем что есть корни      \n",
    "    i = 0\n",
    "    if(graph):\n",
    "        X = [a+((b-a)*i)/100 for i in range(101)]\n",
    "        Y = [f(x) for x in X] \n",
    "    while abs(f(b)-f(a)) > eps:\n",
    "        \n",
    "        i+=1\n",
    "        mid = (a+b) / 2\n",
    "        \n",
    "        if (graph):\n",
    "            \n",
    "            plt.pause(0.5)\n",
    "            clear_output(wait = True)\n",
    "            \n",
    "            \n",
    "            plt.plot(X,Y)\n",
    "            plt.plot(mid, f(mid), ':o')\n",
    "            plt.hlines(0, X[0], X[100], 'black')\n",
    "            plt.show()\n",
    "        if(graph1): \n",
    "            plt.pause(0.5)\n",
    "            clear_output(wait = True)\n",
    "            \n",
    "            X1 = [a+((b-a)*i)/100 for i in range(101)]\n",
    "            Y1 = [f(x) for x in X1] \n",
    "            plt.plot(X1,Y1)\n",
    "            plt.plot(mid, f(mid), ':o')\n",
    "            plt.hlines(0, a, b, 'black')\n",
    "            plt.show()\n",
    "        \n",
    "        if abs(f(mid)) < eps:\n",
    "            return mid , i\n",
    "        elif f(a)*f(mid) < 0:\n",
    "            b = mid\n",
    "        else:\n",
    "            a = mid"
   ]
  },
  {
   "cell_type": "code",
   "execution_count": 101,
   "id": "17a3ef81",
   "metadata": {},
   "outputs": [],
   "source": [
    "def NewtonsMethod(a, b, eps, f, df, graph = False, graph1 = False): #теоретически может не сойтись\n",
    "    try:\n",
    "        xn = (a+b) / 2 \n",
    "        xn1 = xn - f(xn)/df(xn)\n",
    "        i = 0\n",
    "        \n",
    "        if(graph):\n",
    "            X = [a+((b-a)*i)/100 for i in range(101)]\n",
    "            Y = [f(x) for x in X] \n",
    "            \n",
    "        while abs(xn1 - xn) > eps:\n",
    "            \n",
    "            if (graph):\n",
    "            \n",
    "                plt.pause(0.5)\n",
    "                clear_output(wait = True)\n",
    "            \n",
    "                plt.plot(X,Y)\n",
    "                plt.plot(xn1, f(xn1), ':o')\n",
    "                plt.hlines(0, X[0], X[100], 'black')\n",
    "                plt.show()\n",
    "            if(graph1): \n",
    "            \n",
    "                plt.pause(0.5)\n",
    "                clear_output(wait = True)\n",
    "            \n",
    "                X1 = [a+((b-a)*i)/100 for i in range(101)]\n",
    "                Y1 = [f(x) for x in X1] \n",
    "                plt.plot(X1,Y1)\n",
    "                plt.plot(xn1, f(xn1), ':o')\n",
    "                plt.hlines(0, a, b, 'black')\n",
    "                plt.show()\n",
    "                \n",
    "            i+=1\n",
    "            xn = xn1\n",
    "            xn1 = xn - f(xn)/df(xn)\n",
    "        \n",
    "        return xn1, i\n",
    "    except:\n",
    "\n",
    "        print(\"no solution\")"
   ]
  },
  {
   "cell_type": "code",
   "execution_count": 55,
   "id": "5875f6a1",
   "metadata": {},
   "outputs": [
    {
     "name": "stdout",
     "output_type": "stream",
     "text": [
      "Dehotomy: x = 0.1214599609375, iteration = 14, epsilon = 0.001\n",
      "Newtons Method: x = 0.12159628819834177, iteration = 14, epsilon = 0.001\n",
      "Dehotomy: x = 0.12159645557403564, iteration = 24, epsilon = 1e-06\n",
      "Newtons Method: x = 0.12159629113899129, iteration = 24, epsilon = 1e-06\n",
      "Dehotomy: x = 0.12159629113739356, iteration = 35, epsilon = 1e-09\n",
      "Newtons Method: x = 0.1215962911389913, iteration = 35, epsilon = 1e-09\n"
     ]
    }
   ],
   "source": [
    "E = [0.001, 0.000001, 0.000000001]\n",
    "for e in E:\n",
    "    x1, i1 = dyhotomy(a, b, e, fx)\n",
    "    x2 , i2 = NewtonsMethod(a, b, e, fx, dfx)\n",
    "    print(f\"Dehotomy: x = {x1}, iteration = {i1}, epsilon = {e}\")  \n",
    "    print(f\"Newtons Method: x = {x2}, iteration = {i1}, epsilon = {e}\")"
   ]
  },
  {
   "cell_type": "code",
   "execution_count": 105,
   "id": "71552128",
   "metadata": {
    "scrolled": true
   },
   "outputs": [
    {
     "data": {
      "image/png": "[encoded data removed]",
      "text/plain": [
       "<Figure size 432x288 with 1 Axes>"
      ]
     },
     "metadata": {
      "needs_background": "light"
     },
     "output_type": "display_data"
    },
    {
     "data": {
      "text/plain": [
       "(0.1214599609375, 14)"
      ]
     },
     "execution_count": 105,
     "metadata": {},
     "output_type": "execute_result"
    }
   ],
   "source": [
    "dyhotomy(a, b, 0.001, fx, graph = True)"
   ]
  },
  {
   "cell_type": "code",
   "execution_count": 106,
   "id": "2205586a",
   "metadata": {},
   "outputs": [
    {
     "data": {
      "image/png": "[encoded data removed]",
      "text/plain": [
       "<Figure size 432x288 with 1 Axes>"
      ]
     },
     "metadata": {
      "needs_background": "light"
     },
     "output_type": "display_data"
    },
    {
     "data": {
      "text/plain": [
       "(0.12159628819834177, 6)"
      ]
     },
     "execution_count": 106,
     "metadata": {},
     "output_type": "execute_result"
    }
   ],
   "source": [
    "NewtonsMethod(a, b, 0.001, fx, dfx, graph = True)"
   ]
  },
  {
   "cell_type": "code",
   "execution_count": null,
   "id": "7fcb9aaf",
   "metadata": {},
   "outputs": [],
   "source": []
  }
 ],
 "metadata": {
  "kernelspec": {
   "display_name": "Python 3",
   "language": "python",
   "name": "python3"
  },
  "language_info": {
   "codemirror_mode": {
    "name": "ipython",
    "version": 3
   },
   "file_extension": ".py",
   "mimetype": "text/x-python",
   "name": "python",
   "nbconvert_exporter": "python",
   "pygments_lexer": "ipython3",
   "version": "3.8.8"
  }
 },
 "nbformat": 4,
 "nbformat_minor": 5
}
